{
  "nbformat": 4,
  "nbformat_minor": 0,
  "metadata": {
    "colab": {
      "provenance": [],
      "toc_visible": true,
      "authorship_tag": "ABX9TyPx8lpbrP6iIvImN2rSmnks",
      "include_colab_link": true
    },
    "kernelspec": {
      "name": "python3",
      "display_name": "Python 3"
    },
    "language_info": {
      "name": "python"
    }
  },
  "cells": [
    {
      "cell_type": "markdown",
      "metadata": {
        "id": "view-in-github",
        "colab_type": "text"
      },
      "source": [
        "<a href=\"https://colab.research.google.com/github/Gilson-Ferrer/poli_teacher/blob/main/poli_teacher.ipynb\" target=\"_parent\"><img src=\"https://colab.research.google.com/assets/colab-badge.svg\" alt=\"Open In Colab\"/></a>"
      ]
    },
    {
      "cell_type": "code",
      "execution_count": 54,
      "metadata": {
        "id": "E1Q4O8Ria_s2"
      },
      "outputs": [],
      "source": [
        "!pip install -q -U google-generativeai"
      ]
    },
    {
      "cell_type": "code",
      "source": [
        "\n",
        "import google.generativeai as genai\n",
        "\n",
        "GOOGLE_APY_KEY = \"my_api_key\"\n",
        "genai.configure(api_key=GOOGLE_APY_KEY)\n"
      ],
      "metadata": {
        "id": "lrKodWB-bNMc"
      },
      "execution_count": 55,
      "outputs": []
    },
    {
      "cell_type": "code",
      "source": [
        "gener_config ={\n",
        "    \"candidate_count\": 1,\n",
        "    \"temperature\": 1,\n",
        "    \"top_p\": 1,\n",
        "    \"top_k\": 1,\n",
        "\n",
        "}\n",
        "\n",
        "safety_set = {\n",
        "    \"HARASSMENT\": \"BLOCK_NONE\",\n",
        "    \"HATE\": \"BLOCK_NONE\",\n",
        "    \"SEXUAL\": \"BLOCK_NONE\",\n",
        "    \"DANGEROUS\": \"BLOCK_NONE\"\n",
        "}"
      ],
      "metadata": {
        "id": "Y_2np-e51WUe"
      },
      "execution_count": 56,
      "outputs": []
    },
    {
      "cell_type": "code",
      "source": [
        "model = genai.GenerativeModel(model_name=\"gemini-1.0-pro\", generation_config=gener_config, safety_settings=safety_set)\n"
      ],
      "metadata": {
        "id": "sziaHj8xNPrA"
      },
      "execution_count": 57,
      "outputs": []
    },
    {
      "cell_type": "code",
      "source": [
        "import random\n",
        "import string\n",
        "\n",
        "\n",
        "#variáveis de suporte\n",
        "\n",
        "l = string.ascii_uppercase\n",
        "learn = \"\"\n",
        "noum = \"\"\n",
        "subject = \"\"\n",
        "\n",
        "chat = model.start_chat(history=[])\n",
        "\n",
        "\n",
        "user = input('Qual seu nome? ')\n",
        "\n",
        "learn = input(\"Em qual idioma deseja conversar? \")\n",
        "noum = input(\"Diga algo para enterder qual seu nível de conhecimento na linguagem: \")\n",
        "\n",
        "response = model.generate_content(f'Classifique como iniciante, inermediário, avançado ou fluente, o nível do idioma {learn} na frase: {noum}, imprima somente a classificação escolhida')\n",
        "level = response.text\n",
        "print(level)\n",
        "\n",
        "response = model.generate_content(f'Encontre um assunto com inicial {random.choice(l)}, imprima somente 1 assunto, utilize palavras de nível {level} no idioma {learn}')\n",
        "subject = response.text\n",
        "print(subject)\n",
        "\n",
        "response = model.generate_content(f'10 nomes masculinos com inicial {random.choice(l)} do páis com idioma {learn}imprima somente 1 sem justificativas')\n",
        "teacher = response.text\n",
        "\n",
        "\n",
        "prompt = (f'Meu nome é {user}, me deseje bom dia e pergunte se quero falar sobre {subject}, utilize linguagem do nível {level}, não coloque mais que 20 palavras em uma frase, utilize o idioma {learn}')\n",
        "cont = 0\n",
        "\n",
        "while prompt != 'E':\n",
        "\n",
        "  response = chat.send_message(f'{prompt}: haja como um amigo, use frases curtas no idioma {learn}, sem listar')\n",
        "  print(f'{teacher}: {response.text}')\n",
        "\n",
        "  if cont == 5 or cont == 15:\n",
        "      response = chat.send_message(f'Me pergunte descontraidamente em poucas palavras se quero continuar conversando no idioma {learn}, e diga que para sair basta digitar a letra \"E\"')\n",
        "      print(response.text)\n",
        "\n",
        "  prompt = input('Você: ')\n",
        "  cont += 1\n"
      ],
      "metadata": {
        "id": "QXnWKAVZs_jw"
      },
      "execution_count": null,
      "outputs": []
    }
  ]
}